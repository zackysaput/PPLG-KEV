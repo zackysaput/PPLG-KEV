{
  "cells": [
    {
      "cell_type": "markdown",
      "metadata": {
        "id": "view-in-github",
        "colab_type": "text"
      },
      "source": [
        "<a href=\"https://colab.research.google.com/github/zackysaput/PPLG-KEV/blob/main/Bilangan%20positif%2C%20negatif%2C%20dan%20nol.ipynb\" target=\"_parent\"><img src=\"https://colab.research.google.com/assets/colab-badge.svg\" alt=\"Open In Colab\"/></a>"
      ]
    },
    {
      "cell_type": "code",
      "source": [
        "#mengimput angka\n",
        "angka = float(input(\"tulis sebuah angka:\"))\n",
        "\n",
        "#menampilkan kondisi angka positif\n",
        "if angka > 0:\n",
        " print(\"Bilangan positif.\")\n",
        "\n",
        "#menampilkan kondisi angka nol\n",
        "elif angka == 0:\n",
        "  print(\"nol\")\n",
        "\n",
        "#menampilkan kondisi angka negatif\n",
        "else:\n",
        "  print(\"bilangan negatif\")"
      ],
      "metadata": {
        "id": "sY9OGGFvREX_",
        "outputId": "96ff5e43-539a-4182-e8ae-ae49a81a547b",
        "colab": {
          "base_uri": "https://localhost:8080/"
        }
      },
      "execution_count": 5,
      "outputs": [
        {
          "output_type": "stream",
          "name": "stdout",
          "text": [
            "tulis sebuah angka:5\n",
            "Bilangan positif.\n"
          ]
        }
      ]
    },
    {
      "cell_type": "markdown",
      "source": [
        "bilangan positif merupakan yang lebih besar dari 0 (nol),misalnya 0.2;12.5;10,dan seterusnya"
      ],
      "metadata": {
        "id": "M9WjsI4MZvbI"
      }
    }
  ],
  "metadata": {
    "colab": {
      "name": "Welcome To Colaboratory",
      "provenance": [],
      "include_colab_link": true
    },
    "kernelspec": {
      "display_name": "Python 3",
      "name": "python3"
    }
  },
  "nbformat": 4,
  "nbformat_minor": 0
}